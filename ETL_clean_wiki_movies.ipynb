{
 "cells": [
  {
   "cell_type": "code",
   "execution_count": 8,
   "metadata": {},
   "outputs": [],
   "source": [
    "import json\n",
    "import pandas as pd\n",
    "import numpy as np\n",
    "\n",
    "import re\n",
    "from sqlalchemy import create_engine\n",
    "\n",
    "# from config import db_password\n",
    "import time"
   ]
  },
  {
   "cell_type": "code",
   "execution_count": 9,
   "metadata": {},
   "outputs": [],
   "source": [
    "# 1. Add the clean movie function that takes in the argument, \"movie\".\n",
    "def clean_movie(movie):\n",
    "    movie = dict(movie)\n",
    "    alt_titles = {}\n",
    "    for key in ['Also known as','Arabic','Cantonese','Chinese','French',\n",
    "                'Hangul','Hebrew','Hepburn','Japanese','Literally',\n",
    "                'Mandarin','McCune–Reischauer','Original title','Polish',\n",
    "                'Revised Romanization','Romanized','Russian',\n",
    "                'Simplified','Traditional','Yiddish']:\n",
    "        if key in movie:\n",
    "            alt_titles[key] = movie[key]\n",
    "            movie.pop(key)\n",
    "        if len(alt_titles) > 0:\n",
    "            movie['alt_titles'] = alt_titles\n",
    "        \n",
    "        # merge column names\n",
    "def change_column_name(old_name, new_name):\n",
    "        if old_name in movie:\n",
    "            movie[new_name] = movie.pop(old_name)\n",
    "            change_column_name('Adaptation by', 'Writer(s)')\n",
    "            change_column_name('Country of origin', 'Country')\n",
    "            change_column_name('Directed by', 'Director')\n",
    "            change_column_name('Distributed by', 'Distributor')\n",
    "            change_column_name('Edited by', 'Editor(s)')\n",
    "            change_column_name('Length', 'Running time')\n",
    "            change_column_name('Original release', 'Release date')\n",
    "            change_column_name('Music by', 'Composer(s)')\n",
    "            change_column_name('Produced by', 'Producer(s)')\n",
    "            change_column_name('Producer', 'Producer(s)')\n",
    "            change_column_name('Productioncompanies ', 'Production company(s)')\n",
    "            change_column_name('Productioncompany ', 'Production company(s)')\n",
    "            change_column_name('Released', 'Release Date')\n",
    "            change_column_name('Release Date', 'Release date')\n",
    "            change_column_name('Screen story by', 'Writer(s)')\n",
    "            change_column_name('Screenplay by', 'Writer(s)')\n",
    "            change_column_name('Story by', 'Writer(s)')\n",
    "            change_column_name('Theme music composer', 'Composer(s)')\n",
    "            change_column_name('Written by', 'Writer(s)')\n",
    "    \n",
    "\n",
    "        return movie"
   ]
  },
  {
   "cell_type": "code",
   "execution_count": 10,
   "metadata": {},
   "outputs": [],
   "source": [
    "# 2 Add the function that takes in three arguments;\n",
    "# Wikipedia data, Kaggle metadata, and MovieLens rating data (from Kaggle)\n",
    "\n",
    "file_dir='C://Users/prana/OneDrive/Desktop/Movies-ETL/wikipedia-movies.json'\n",
    "\n",
    "def extract_transform_load():\n",
    "    # Read in the kaggle metadata and MovieLens ratings CSV files as Pandas DataFrames.\n",
    "    \n",
    "    movies_metadata=pd.read_csv('C://Users/prana/OneDrive/Desktop/Movies-ETL/archive/movies_metadata.csv', low_memory=False)\n",
    "    ratings=pd.read_csv('C://Users/prana/OneDrive/Desktop/Movies-ETL/archive/ratings.csv')\n",
    "\n",
    "    # Open and read the Wikipedia data JSON file.\n",
    "    with open(f'{file_dir}', mode='r') as file:\n",
    "        wiki_movies_raw = json.load(file) \n",
    "    \n",
    "    # 3. Write a list comprehension to filter out TV shows.\n",
    "    wiki_movies = [movie for movie in wiki_movies_raw\n",
    "               if ('Director' in movie or 'Directed by' in movie)\n",
    "                   and 'imdb_link' in movie\n",
    "                   and 'No. of episodes' not in movie]\n",
    "\n",
    "\n",
    "    # 4. Write a list comprehension to iterate through the cleaned wiki movies list\n",
    "    # and call the clean_movie function on each movie.\n",
    "    clean_movies=[clean_movie(movie) for movie in wiki_movies]\n",
    "\n",
    "    # 5. Read in the cleaned movies list from Step 4 as a DataFrame.\n",
    "    wiki_movies_df = pd.DataFrame(clean_movies)\n",
    "    sorted(wiki_movies_df.columns.tolist())\n",
    "\n",
    "    # 6. Write a try-except block to catch errors while extracting the IMDb ID using a regular expression string and\n",
    "    #  dropping any imdb_id duplicates. If there is an error, capture and print the exception.\n",
    "    try:\n",
    "        wiki_movies_df['imdb_id']=wiki_movies_df['imdb_link'].str.extract(r'(tt\\d{7})')\n",
    "        wiki_movies_df.dropduplicates(subset='imdb_id', inplace=True)\n",
    "    except Exception as excp:\n",
    "        print (excp)\n",
    "        \n",
    "    #  7. Write a list comprehension to keep the columns that don't have null values from the wiki_movies_df DataFrame.\n",
    "    wiki_keepcol=[column for column in wiki_movies_df.columns if wiki_movies_df[column].isnull().sum()<=len(wiki_movies_df)*0.9]\n",
    "    wiki_movies_df=wiki_movies_df[wiki_keepcol]\n",
    "    \n",
    "    # 8. Create a variable that will hold the non-null values from the “Box office” column.\n",
    "    bo_nonnull= wiki_movies_df['Box office'].dropna()\n",
    "    \n",
    "    # 9. Convert the box office data created in Step 8 to string values using the lambda and join functions.\n",
    "    bo_nonnull=bo_nonnull.apply(lambda x:  ''.join(x) if type(x) == list else x)\n",
    "\n",
    "    # 10. Write a regular expression to match the six elements of \"form_one\" of the box office data.\n",
    "    form_one=r'\\$\\s*\\d+\\.?\\d*\\s*[mb]illi?on'\n",
    "    \n",
    "    # 11. Write a regular expression to match the three elements of \"form_two\" of the box office data.\n",
    "    form_two=r'\\$\\s*\\d{1,3}(?:[,\\.]\\d{3})+(?!\\s[mb]illion)'\n",
    "    bo_nonnull=bo_nonnull.str.replace(r'\\$.*[---](?![a-z])', '$', regex=True)\n",
    "    \n",
    "    # 12. Add the parse_dollars function.\n",
    "    def parse_dollar(s):\n",
    "        #to return non string \n",
    "        if type(s)!=str:\n",
    "            return np.nan\n",
    "        \n",
    "        #to return value in the form of $###.# million\n",
    "        if re.match(r'\\$\\s*\\d+\\.?\\d*\\s*milli?on', s, flags=re.IGNORECASE):\n",
    "            \n",
    "            #remove $sign and 'million'\n",
    "            s=re.sub('\\$|\\s|[a-zA-Z]', '', s)\n",
    "            \n",
    "            #convert to float and multiply by million\n",
    "            value=float(s)*10**6\n",
    "            \n",
    "            return value\n",
    "            \n",
    "        elif re.match(r'\\$\\s*\\d+\\.?\\d*\\s*billi?on', s, flags=re.IGNORECASE):\n",
    "            \n",
    "            #remove $sign and 'million'\n",
    "            s=re.sub('\\$|\\s|[a-zA-Z]', '', s)\n",
    "            \n",
    "            #convert to float and multiply by billion\n",
    "            value=float(s)*10**9\n",
    "            \n",
    "            return value\n",
    "        \n",
    "        elif re.match('r\\$\\s*\\d{1,3}(?:[,\\.]\\d{3})+(?!\\s[mb]illion)', s, flags=re.IGNORECASE):\n",
    "            s=re.sub('\\$|,', '', s)\n",
    "            \n",
    "            value=float(s)\n",
    "            return value\n",
    "        \n",
    "        else:\n",
    "            return np.nan    \n",
    "        \n",
    "    # 13. Clean the box office column in the wiki_movies_df DataFrame.\n",
    "    wiki_movies_df['bo_nonnull']=bo_nonnull.str.extract(f'({form_one}|{form_two})', flags=re.IGNORECASE)[0].apply(parse_dollars)\n",
    "    wiki_movies_df.drop('bo_nonnull', axis=1, inplace=True)\n",
    "        \n",
    "    # 14. Clean the budget column in the wiki_movies_df DataFrame.\n",
    "    budget=wiki_movies_df['Budget'].dropna()\n",
    "    budget=budget.map(lambda x: ' '.join(x) if type(x) == list else x)\n",
    "    budget=budget.str.replace(r'\\$.*[---](?![a-z]', '$', regex=True)\n",
    "    budget=budget.str.replace(r'\\[\\d+\\]\\s*', '')\n",
    "    \n",
    "    \n",
    "    wiki_movies_df['budget']=budget.str.extract(f'({form_one}|{form_two})', flags=re.IGNORECASE)[0].apply(parse_dollars)\n",
    "    wiki_movies_df.drop('Budget', axis=1, inplace=True)\n",
    "    \n",
    "\n",
    "    # 15. Clean the release date column in the wiki_movies_df DataFrame.\n",
    "    release_date=wiki_movies_df['Release date'].dropna()\n",
    "    release_date=release_date.map(lambda x: ' '.join(x) if type(x) == list else x)\n",
    "    date_form_one=r'(?:January|February|March|April|May|June|July|August|September|October|November|December)\\s[123]\\d,\\s\\d{4}'\n",
    "    date_form_two=r'\\d{4}.[01]\\d.[123]\\d'\n",
    "    date_form_three=r'(?:January|February|March|April|May|June|July|August|September|October|November|December)\\s\\d{4}'\n",
    "    date_form_four=r'\\d{4}'\n",
    "\n",
    "    # 16. Clean the running time column in the wiki_movies_df DataFrame.\n",
    "    running_time=wiki_movies_df['Running time'].dropna()\n",
    "    running_time=running_time.map(lambda x: ' '.join(x) if type(x) == list else x)\n",
    "    running_time_keep=running_time.str.extract(r'(\\d+)\\s*ho?u?r?s\\s*(\\d*)|(\\d+)\\s*m')\n",
    "    wiki_movies_df['running_time'] = running_time_extract.apply(lambda row: row[0]*60 + row[1] if row[2] == 0 else row[2], axis=1)\n",
    "    wiki_movies_df.drop('Running time', axis=1, inplace=True)\n",
    "    \n",
    "    # Return three variables. The first is the wiki_movies_df DataFrame\n",
    "    \n",
    "    return wiki_movies_df, kaggle_metadata, ratings "
   ]
  },
  {
   "cell_type": "code",
   "execution_count": 11,
   "metadata": {},
   "outputs": [],
   "source": [
    "# 17. Create the path to your file directory and variables for the three files.\n",
    "file_dir = 'C://Users/prana/OneDrive/Desktop/Movies-ETL/wikipedia-movies.json'\n",
    "# The Wikipedia data\n",
    "wiki_file = f'{file_dir}/wikipedia_movies.json'\n",
    "# The Kaggle metadata\n",
    "kaggle_file = f'{file_dir}/movies_metadata.csv'\n",
    "# The MovieLens rating data.\n",
    "ratings_file = f'{file_dir}/ratings.csv'"
   ]
  },
  {
   "cell_type": "code",
   "execution_count": 12,
   "metadata": {},
   "outputs": [
    {
     "name": "stdout",
     "output_type": "stream",
     "text": [
      "'imdb_link'\n"
     ]
    },
    {
     "ename": "KeyError",
     "evalue": "'Box office'",
     "output_type": "error",
     "traceback": [
      "\u001b[1;31m---------------------------------------------------------------------------\u001b[0m",
      "\u001b[1;31mKeyError\u001b[0m                                  Traceback (most recent call last)",
      "File \u001b[1;32m~\\anaconda3\\lib\\site-packages\\pandas\\core\\indexes\\base.py:3621\u001b[0m, in \u001b[0;36mIndex.get_loc\u001b[1;34m(self, key, method, tolerance)\u001b[0m\n\u001b[0;32m   3620\u001b[0m \u001b[38;5;28;01mtry\u001b[39;00m:\n\u001b[1;32m-> 3621\u001b[0m     \u001b[38;5;28;01mreturn\u001b[39;00m \u001b[38;5;28;43mself\u001b[39;49m\u001b[38;5;241;43m.\u001b[39;49m\u001b[43m_engine\u001b[49m\u001b[38;5;241;43m.\u001b[39;49m\u001b[43mget_loc\u001b[49m\u001b[43m(\u001b[49m\u001b[43mcasted_key\u001b[49m\u001b[43m)\u001b[49m\n\u001b[0;32m   3622\u001b[0m \u001b[38;5;28;01mexcept\u001b[39;00m \u001b[38;5;167;01mKeyError\u001b[39;00m \u001b[38;5;28;01mas\u001b[39;00m err:\n",
      "File \u001b[1;32m~\\anaconda3\\lib\\site-packages\\pandas\\_libs\\index.pyx:136\u001b[0m, in \u001b[0;36mpandas._libs.index.IndexEngine.get_loc\u001b[1;34m()\u001b[0m\n",
      "File \u001b[1;32m~\\anaconda3\\lib\\site-packages\\pandas\\_libs\\index.pyx:144\u001b[0m, in \u001b[0;36mpandas._libs.index.IndexEngine.get_loc\u001b[1;34m()\u001b[0m\n",
      "File \u001b[1;32mpandas\\_libs\\index_class_helper.pxi:41\u001b[0m, in \u001b[0;36mpandas._libs.index.Int64Engine._check_type\u001b[1;34m()\u001b[0m\n",
      "\u001b[1;31mKeyError\u001b[0m: 'Box office'",
      "\nThe above exception was the direct cause of the following exception:\n",
      "\u001b[1;31mKeyError\u001b[0m                                  Traceback (most recent call last)",
      "Input \u001b[1;32mIn [12]\u001b[0m, in \u001b[0;36m<cell line: 2>\u001b[1;34m()\u001b[0m\n\u001b[0;32m      1\u001b[0m \u001b[38;5;66;03m# 18. Set the three variables equal to the function created in D1.\u001b[39;00m\n\u001b[1;32m----> 2\u001b[0m wiki_file, kaggle_file, ratings_file \u001b[38;5;241m=\u001b[39m \u001b[43mextract_transform_load\u001b[49m\u001b[43m(\u001b[49m\u001b[43m)\u001b[49m\n",
      "Input \u001b[1;32mIn [10]\u001b[0m, in \u001b[0;36mextract_transform_load\u001b[1;34m()\u001b[0m\n\u001b[0;32m     41\u001b[0m wiki_movies_df\u001b[38;5;241m=\u001b[39mwiki_movies_df[wiki_keepcol]\n\u001b[0;32m     43\u001b[0m \u001b[38;5;66;03m# 8. Create a variable that will hold the non-null values from the “Box office” column.\u001b[39;00m\n\u001b[1;32m---> 44\u001b[0m bo_nonnull\u001b[38;5;241m=\u001b[39m \u001b[43mwiki_movies_df\u001b[49m\u001b[43m[\u001b[49m\u001b[38;5;124;43m'\u001b[39;49m\u001b[38;5;124;43mBox office\u001b[39;49m\u001b[38;5;124;43m'\u001b[39;49m\u001b[43m]\u001b[49m\u001b[38;5;241m.\u001b[39mdropna()\n\u001b[0;32m     46\u001b[0m \u001b[38;5;66;03m# 9. Convert the box office data created in Step 8 to string values using the lambda and join functions.\u001b[39;00m\n\u001b[0;32m     47\u001b[0m bo_nonnull\u001b[38;5;241m=\u001b[39mbo_nonnull\u001b[38;5;241m.\u001b[39mapply(\u001b[38;5;28;01mlambda\u001b[39;00m x:  \u001b[38;5;124m'\u001b[39m\u001b[38;5;124m'\u001b[39m\u001b[38;5;241m.\u001b[39mjoin(x) \u001b[38;5;28;01mif\u001b[39;00m \u001b[38;5;28mtype\u001b[39m(x) \u001b[38;5;241m==\u001b[39m \u001b[38;5;28mlist\u001b[39m \u001b[38;5;28;01melse\u001b[39;00m x)\n",
      "File \u001b[1;32m~\\anaconda3\\lib\\site-packages\\pandas\\core\\frame.py:3505\u001b[0m, in \u001b[0;36mDataFrame.__getitem__\u001b[1;34m(self, key)\u001b[0m\n\u001b[0;32m   3503\u001b[0m \u001b[38;5;28;01mif\u001b[39;00m \u001b[38;5;28mself\u001b[39m\u001b[38;5;241m.\u001b[39mcolumns\u001b[38;5;241m.\u001b[39mnlevels \u001b[38;5;241m>\u001b[39m \u001b[38;5;241m1\u001b[39m:\n\u001b[0;32m   3504\u001b[0m     \u001b[38;5;28;01mreturn\u001b[39;00m \u001b[38;5;28mself\u001b[39m\u001b[38;5;241m.\u001b[39m_getitem_multilevel(key)\n\u001b[1;32m-> 3505\u001b[0m indexer \u001b[38;5;241m=\u001b[39m \u001b[38;5;28;43mself\u001b[39;49m\u001b[38;5;241;43m.\u001b[39;49m\u001b[43mcolumns\u001b[49m\u001b[38;5;241;43m.\u001b[39;49m\u001b[43mget_loc\u001b[49m\u001b[43m(\u001b[49m\u001b[43mkey\u001b[49m\u001b[43m)\u001b[49m\n\u001b[0;32m   3506\u001b[0m \u001b[38;5;28;01mif\u001b[39;00m is_integer(indexer):\n\u001b[0;32m   3507\u001b[0m     indexer \u001b[38;5;241m=\u001b[39m [indexer]\n",
      "File \u001b[1;32m~\\anaconda3\\lib\\site-packages\\pandas\\core\\indexes\\base.py:3623\u001b[0m, in \u001b[0;36mIndex.get_loc\u001b[1;34m(self, key, method, tolerance)\u001b[0m\n\u001b[0;32m   3621\u001b[0m     \u001b[38;5;28;01mreturn\u001b[39;00m \u001b[38;5;28mself\u001b[39m\u001b[38;5;241m.\u001b[39m_engine\u001b[38;5;241m.\u001b[39mget_loc(casted_key)\n\u001b[0;32m   3622\u001b[0m \u001b[38;5;28;01mexcept\u001b[39;00m \u001b[38;5;167;01mKeyError\u001b[39;00m \u001b[38;5;28;01mas\u001b[39;00m err:\n\u001b[1;32m-> 3623\u001b[0m     \u001b[38;5;28;01mraise\u001b[39;00m \u001b[38;5;167;01mKeyError\u001b[39;00m(key) \u001b[38;5;28;01mfrom\u001b[39;00m \u001b[38;5;21;01merr\u001b[39;00m\n\u001b[0;32m   3624\u001b[0m \u001b[38;5;28;01mexcept\u001b[39;00m \u001b[38;5;167;01mTypeError\u001b[39;00m:\n\u001b[0;32m   3625\u001b[0m     \u001b[38;5;66;03m# If we have a listlike key, _check_indexing_error will raise\u001b[39;00m\n\u001b[0;32m   3626\u001b[0m     \u001b[38;5;66;03m#  InvalidIndexError. Otherwise we fall through and re-raise\u001b[39;00m\n\u001b[0;32m   3627\u001b[0m     \u001b[38;5;66;03m#  the TypeError.\u001b[39;00m\n\u001b[0;32m   3628\u001b[0m     \u001b[38;5;28mself\u001b[39m\u001b[38;5;241m.\u001b[39m_check_indexing_error(key)\n",
      "\u001b[1;31mKeyError\u001b[0m: 'Box office'"
     ]
    }
   ],
   "source": [
    "# 18. Set the three variables equal to the function created in D1.\n",
    "wiki_file, kaggle_file, ratings_file = extract_transform_load()"
   ]
  },
  {
   "cell_type": "code",
   "execution_count": null,
   "metadata": {},
   "outputs": [],
   "source": [
    "# 19. Set the wiki_movies_df equal to the wiki_file variable. \n",
    "wiki_movies_df = wiki_file"
   ]
  },
  {
   "cell_type": "code",
   "execution_count": 9,
   "metadata": {},
   "outputs": [
    {
     "ename": "AttributeError",
     "evalue": "'str' object has no attribute 'head'",
     "output_type": "error",
     "traceback": [
      "\u001b[1;31m---------------------------------------------------------------------------\u001b[0m",
      "\u001b[1;31mAttributeError\u001b[0m                            Traceback (most recent call last)",
      "Input \u001b[1;32mIn [9]\u001b[0m, in \u001b[0;36m<cell line: 2>\u001b[1;34m()\u001b[0m\n\u001b[0;32m      1\u001b[0m \u001b[38;5;66;03m# 20. Check that the wiki_movies_df DataFrame looks like this. \u001b[39;00m\n\u001b[1;32m----> 2\u001b[0m \u001b[43mwiki_movies_df\u001b[49m\u001b[38;5;241;43m.\u001b[39;49m\u001b[43mhead\u001b[49m()\n",
      "\u001b[1;31mAttributeError\u001b[0m: 'str' object has no attribute 'head'"
     ]
    }
   ],
   "source": [
    "# 20. Check that the wiki_movies_df DataFrame looks like this. \n",
    "wiki_movies_df.head()"
   ]
  },
  {
   "cell_type": "code",
   "execution_count": 10,
   "metadata": {},
   "outputs": [
    {
     "ename": "AttributeError",
     "evalue": "'str' object has no attribute 'columns'",
     "output_type": "error",
     "traceback": [
      "\u001b[1;31m---------------------------------------------------------------------------\u001b[0m",
      "\u001b[1;31mAttributeError\u001b[0m                            Traceback (most recent call last)",
      "Input \u001b[1;32mIn [10]\u001b[0m, in \u001b[0;36m<cell line: 2>\u001b[1;34m()\u001b[0m\n\u001b[0;32m      1\u001b[0m \u001b[38;5;66;03m# 21. Check that wiki_movies_df DataFrame columns are correct. \u001b[39;00m\n\u001b[1;32m----> 2\u001b[0m \u001b[43mwiki_movies_df\u001b[49m\u001b[38;5;241;43m.\u001b[39;49m\u001b[43mcolumns\u001b[49m\u001b[38;5;241m.\u001b[39mto_list()\n",
      "\u001b[1;31mAttributeError\u001b[0m: 'str' object has no attribute 'columns'"
     ]
    }
   ],
   "source": [
    "# 21. Check that wiki_movies_df DataFrame columns are correct. \n",
    "wiki_movies_df.columns.to_list()"
   ]
  },
  {
   "cell_type": "code",
   "execution_count": null,
   "metadata": {},
   "outputs": [],
   "source": []
  }
 ],
 "metadata": {
  "kernelspec": {
   "display_name": "Python 3 (ipykernel)",
   "language": "python",
   "name": "python3"
  },
  "language_info": {
   "codemirror_mode": {
    "name": "ipython",
    "version": 3
   },
   "file_extension": ".py",
   "mimetype": "text/x-python",
   "name": "python",
   "nbconvert_exporter": "python",
   "pygments_lexer": "ipython3",
   "version": "3.9.12"
  }
 },
 "nbformat": 4,
 "nbformat_minor": 2
}
